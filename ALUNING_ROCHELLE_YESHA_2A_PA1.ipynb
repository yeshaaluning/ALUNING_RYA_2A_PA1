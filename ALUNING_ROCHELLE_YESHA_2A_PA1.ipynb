{
 "cells": [
  {
   "cell_type": "markdown",
   "id": "45b953a4-3ae6-403f-b9dd-60561005bb4d",
   "metadata": {},
   "source": [
    "PA1: INTRODUCTION TO PYTHON PROGRAMMING"
   ]
  },
  {
   "cell_type": "markdown",
   "id": "109d92e3-c3b3-44a6-a5ef-516e21518534",
   "metadata": {},
   "source": [
    "1. ALPHABET SOUP PROBLEM"
   ]
  },
  {
   "cell_type": "code",
   "execution_count": 28,
   "id": "065f62f8-9254-4f84-a2a8-8ebb7e0fda67",
   "metadata": {},
   "outputs": [
    {
     "name": "stdin",
     "output_type": "stream",
     "text": [
      "Enter a word:  cba\n"
     ]
    },
    {
     "name": "stdout",
     "output_type": "stream",
     "text": [
      "abc\n"
     ]
    }
   ],
   "source": [
    "#Defining alphabet soup \n",
    "def alphabet_soup(text):\n",
    "    char_list = []\n",
    "    for letter in text:\n",
    "        char_list.append(letter)\n",
    "\n",
    "    #Sorting the list alphabetically\n",
    "    char_list.sort()\n",
    "\n",
    "    #Converting list to string\n",
    "    result = \"\"\n",
    "    for letter in char_list:\n",
    "        result += letter\n",
    "\n",
    "    return result\n",
    "\n",
    "#User inputs the word\n",
    "w = input(\"Enter a word: \")\n",
    "\n",
    "#Call the function and print result\n",
    "sorted_word = alphabet_soup(w)\n",
    "print(sorted_word)"
   ]
  },
  {
   "cell_type": "markdown",
   "id": "75dc88dc-a72d-48d1-8d5a-1bb0f0f1df74",
   "metadata": {},
   "source": [
    "2. EMOTICON PROBLEM"
   ]
  },
  {
   "cell_type": "code",
   "execution_count": 29,
   "id": "64645ba9-4b47-433e-a388-47390fd138d1",
   "metadata": {},
   "outputs": [
    {
     "name": "stdin",
     "output_type": "stream",
     "text": [
      "Enter a sentence:  im a smile bcz i love yeshapot\n"
     ]
    },
    {
     "name": "stdout",
     "output_type": "stream",
     "text": [
      "im a :) bcz i love yeshapot\n"
     ]
    }
   ],
   "source": [
    "#Defining emotify & replacing words with emoticons\n",
    "def emotify(sentence):\n",
    "    sentence = sentence.replace(\"smile\", \":)\")\n",
    "    sentence = sentence.replace(\"grin\", \":D\")\n",
    "    sentence = sentence.replace(\"sad\", \":(\")\n",
    "    sentence = sentence.replace(\"mad\", \">:(\")\n",
    "    \n",
    "    return sentence\n",
    "\n",
    "#User gives the sentence\n",
    "user_input = input(\"Enter a sentence: \")\n",
    "\n",
    "#Call the function and print result\n",
    "result = emotify(user_input)\n",
    "print(result)"
   ]
  },
  {
   "cell_type": "markdown",
   "id": "368f65ef-cc2e-4e0f-addd-ba451665e5e0",
   "metadata": {},
   "source": [
    "3. UNPACKING LIST PROBLEM"
   ]
  },
  {
   "cell_type": "code",
   "execution_count": 30,
   "id": "83f9188e-b8f1-4502-8410-6f499fea94db",
   "metadata": {},
   "outputs": [
    {
     "name": "stdin",
     "output_type": "stream",
     "text": [
      "Enter numbers separated by spaces:  6 3 6 8 3 21 2 3\n"
     ]
    },
    {
     "name": "stdout",
     "output_type": "stream",
     "text": [
      "First Digit: 6\n",
      "Middle Digits: [3, 6, 8, 3, 21, 2]\n",
      "Last Digit: 3\n"
     ]
    }
   ],
   "source": [
    "# User inputs the list of numbers\n",
    "user_input = input(\"Enter numbers separated by spaces: \")\n",
    "\n",
    "#Converts to list of integers\n",
    "X = []\n",
    "for num in user_input.split():\n",
    "    X.append(int(num))\n",
    "\n",
    "#Unpack the list\n",
    "first = X[0]\n",
    "middle = X[1:-1]\n",
    "last = X[-1]\n",
    "\n",
    "#Print the results\n",
    "print(\"First Digit:\", first)\n",
    "print(\"Middle Digits:\", middle)\n",
    "print(\"Last Digit:\", last)"
   ]
  },
  {
   "cell_type": "code",
   "execution_count": null,
   "id": "1aabd114-eff6-4825-943e-ef2941dacb0d",
   "metadata": {},
   "outputs": [],
   "source": []
  }
 ],
 "metadata": {
  "kernelspec": {
   "display_name": "anaconda-panel-2023.05-py310",
   "language": "python",
   "name": "conda-env-anaconda-panel-2023.05-py310-py"
  },
  "language_info": {
   "codemirror_mode": {
    "name": "ipython",
    "version": 3
   },
   "file_extension": ".py",
   "mimetype": "text/x-python",
   "name": "python",
   "nbconvert_exporter": "python",
   "pygments_lexer": "ipython3",
   "version": "3.11.5"
  }
 },
 "nbformat": 4,
 "nbformat_minor": 5
}
